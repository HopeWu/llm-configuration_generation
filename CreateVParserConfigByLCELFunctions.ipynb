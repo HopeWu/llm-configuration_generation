{
  "cells": [
    {
      "cell_type": "code",
      "source": [
        "import os\n",
        "from langchain.llms import AzureOpenAI\n",
        "import yaml\n",
        "import pandas as pd\n",
        "import json\n",
        "import re\n",
        "from langchain.prompts.prompt import PromptTemplate\n",
        "from langchain.prompts.few_shot import FewShotPromptTemplate\n",
        "from prospectordb import ProspectorDB\n",
        "from langchain.schema.runnable import RunnableLambda, RunnableBranch"
      ],
      "outputs": [],
      "execution_count": 20,
      "metadata": {
        "gather": {
          "logged": 1702067699593
        }
      }
    },
    {
      "cell_type": "code",
      "source": [
        "os.environ[\"OPENAI_API_KEY\"] = \"xxx\"\n",
        "os.environ[\"OPENAI_API_TYPE\"] = \"azure\"\n",
        "os.environ[\"OPENAI_API_BASE\"] = \"xxx\""
      ],
      "outputs": [],
      "execution_count": 21,
      "metadata": {
        "jupyter": {
          "source_hidden": false,
          "outputs_hidden": false
        },
        "nteract": {
          "transient": {
            "deleting": false
          }
        },
        "gather": {
          "logged": 1702067699693
        }
      }
    },
    {
      "cell_type": "code",
      "source": [
        "os.environ[\"OPENAI_API_VERSION\"] = \"2022-12-01\"\n",
        "# Create an instance of Azure OpenAI\n",
        "llm = AzureOpenAI(\n",
        "    deployment_name = \"xxx\",\n",
        "    max_tokens = 500,\n",
        "    temperature = 0,\n",
        ")\n",
        "# Run the LLM\n",
        "llm(\"How is the weather today?\")"
      ],
      "outputs": [
        {
          "output_type": "execute_result",
          "execution_count": 22,
          "data": {
            "text/plain": "'\\n\\nI am an AI and do not have the ability to experience weather. Can I assist you with anything else?'"
          },
          "metadata": {}
        }
      ],
      "execution_count": 22,
      "metadata": {
        "jupyter": {
          "source_hidden": false,
          "outputs_hidden": false
        },
        "nteract": {
          "transient": {
            "deleting": false
          }
        },
        "gather": {
          "logged": 1702067700204
        }
      }
    },
    {
      "cell_type": "code",
      "source": [
        "all_property_table = \"all_properties_v2.csv\"\n",
        "all_pro_info_df = pd.read_csv(all_property_table, encoding=\"utf-8\")"
      ],
      "outputs": [],
      "execution_count": 23,
      "metadata": {
        "jupyter": {
          "source_hidden": false,
          "outputs_hidden": true
        },
        "nteract": {
          "transient": {
            "deleting": false
          }
        },
        "gather": {
          "logged": 1702067700306
        }
      }
    },
    {
      "cell_type": "code",
      "source": [
        "def label_convert(label):\n",
        "    return label.upper().replace(\" \", \"_\")"
      ],
      "outputs": [],
      "execution_count": 24,
      "metadata": {
        "jupyter": {
          "source_hidden": false,
          "outputs_hidden": false
        },
        "nteract": {
          "transient": {
            "deleting": false
          }
        },
        "gather": {
          "logged": 1702067700494
        }
      }
    },
    {
      "cell_type": "code",
      "source": [
        "all_pro_info_df[\"Is table property\"]"
      ],
      "outputs": [
        {
          "output_type": "execute_result",
          "execution_count": 25,
          "data": {
            "text/plain": "0      0.0\n1      0.0\n2      0.0\n3      0.0\n4      0.0\n      ... \n255    1.0\n256    1.0\n257    1.0\n258    1.0\n259    1.0\nName: Is table property, Length: 260, dtype: float64"
          },
          "metadata": {}
        }
      ],
      "execution_count": 25,
      "metadata": {
        "jupyter": {
          "source_hidden": false,
          "outputs_hidden": false
        },
        "nteract": {
          "transient": {
            "deleting": false
          }
        },
        "gather": {
          "logged": 1702067700600
        }
      }
    },
    {
      "cell_type": "code",
      "source": [
        "label_convert(\"Notched Izod Impact\")"
      ],
      "outputs": [
        {
          "output_type": "execute_result",
          "execution_count": 26,
          "data": {
            "text/plain": "'NOTCHED_IZOD_IMPACT'"
          },
          "metadata": {}
        }
      ],
      "execution_count": 26,
      "metadata": {
        "jupyter": {
          "source_hidden": false,
          "outputs_hidden": false
        },
        "nteract": {
          "transient": {
            "deleting": false
          }
        },
        "gather": {
          "logged": 1702067700722
        }
      }
    },
    {
      "cell_type": "code",
      "source": [
        "ProspectorDB.getUnitOf(\"Notched Izod Impact\")"
      ],
      "outputs": [
        {
          "output_type": "execute_result",
          "execution_count": 27,
          "data": {
            "text/plain": "'J/m'"
          },
          "metadata": {}
        }
      ],
      "execution_count": 27,
      "metadata": {
        "jupyter": {
          "source_hidden": false,
          "outputs_hidden": false
        },
        "nteract": {
          "transient": {
            "deleting": false
          }
        },
        "gather": {
          "logged": 1702067700834
        }
      }
    },
    {
      "cell_type": "code",
      "source": [
        "ProspectorDB.getUnitOf(\"Flexural Strength at Yield\")"
      ],
      "outputs": [
        {
          "output_type": "execute_result",
          "execution_count": 28,
          "data": {
            "text/plain": "'MPa'"
          },
          "metadata": {}
        }
      ],
      "execution_count": 28,
      "metadata": {
        "jupyter": {
          "source_hidden": false,
          "outputs_hidden": false
        },
        "nteract": {
          "transient": {
            "deleting": false
          }
        },
        "gather": {
          "logged": 1702067700944
        }
      }
    },
    {
      "cell_type": "code",
      "source": [
        "def strip_parser(any_string):\n",
        "    return any_string.strip()"
      ],
      "outputs": [],
      "execution_count": 29,
      "metadata": {
        "jupyter": {
          "source_hidden": false,
          "outputs_hidden": false
        },
        "nteract": {
          "transient": {
            "deleting": false
          }
        },
        "gather": {
          "logged": 1702067701034
        }
      }
    },
    {
      "cell_type": "code",
      "source": [
        "re_middle_lb = re.compile(r\"(.*\\n)(.*)\")"
      ],
      "outputs": [],
      "execution_count": 30,
      "metadata": {
        "jupyter": {
          "source_hidden": false,
          "outputs_hidden": false
        },
        "nteract": {
          "transient": {
            "deleting": false
          }
        },
        "gather": {
          "logged": 1702067701126
        }
      }
    },
    {
      "cell_type": "code",
      "source": [
        "def partAfterLb(a_string):\n",
        "    if re_middle_lb.match(a_string):\n",
        "        return re_middle_lb.match('Rate\\nppm/°C').group(2)\n",
        "    else:\n",
        "        return a_string"
      ],
      "outputs": [],
      "execution_count": 31,
      "metadata": {
        "jupyter": {
          "source_hidden": false,
          "outputs_hidden": false
        },
        "nteract": {
          "transient": {
            "deleting": false
          }
        },
        "gather": {
          "logged": 1702067701449
        }
      }
    },
    {
      "cell_type": "code",
      "source": [
        "def get_units_output_parser(any_string):\n",
        "    any_string = strip_parser(any_string)\n",
        "    items = any_string.split(\", \")\n",
        "    items = map(lambda unit: \"%\" if \"/\" in unit and unit.split(\"/\")[0] == unit.split(\"/\")[1] else unit, items)\n",
        "    items = map(partAfterLb, items)\n",
        "    return \", \".join(items)\n",
        "print(get_units_output_parser('in/in, mm/mm, m/m'))\n",
        "print(get_units_output_parser('kg/m³, kg/m3'))\n",
        "print(get_units_output_parser('Rate\\nppm/°C, µm/m°C, in/in°F, cm³/s'))"
      ],
      "outputs": [
        {
          "output_type": "stream",
          "name": "stdout",
          "text": "%, %, %\nkg/m³, kg/m3\nppm/°C, µm/m°C, in/in°F, cm³/s\n"
        }
      ],
      "execution_count": 32,
      "metadata": {
        "jupyter": {
          "source_hidden": false,
          "outputs_hidden": false
        },
        "nteract": {
          "transient": {
            "deleting": false
          }
        },
        "gather": {
          "logged": 1702067701683
        }
      }
    },
    {
      "cell_type": "code",
      "source": [
        "# get other forms of a unit\n",
        "unit_forms_examples = [\n",
        "    {\"question\": \"Generate several forms for the unit of MPa\",\n",
        "    \"answer\": \"mpa\"},\n",
        "    {\"question\": \"Generate several forms for the unit of J/m\",\n",
        "    \"answer\": \"j/m\"},\n",
        "    {\"question\": \"Generate several forms for the unit of %\",\n",
        "    \"answer\": \"%\"},\n",
        "    {\"question\": \"Generate several forms for the unit of J/kg/°C\",\n",
        "    \"answer\": \"j/kg/°c\"},\n",
        "    {\"question\": \"Generate several forms for the unit of g/cm³\",\n",
        "    \"answer\": \"g/cm³, g/cm3\"},\n",
        "    {\"question\": \"Generate several forms for the unit of kg/m³\",\n",
        "    \"answer\": \"kg/m³, kg/m3\"},\n",
        "]\n",
        "\n",
        "unit_form_example_prompt = PromptTemplate(input_variables=[\"question\", \"answer\"], template=\"Question: {question}\\n{answer}\")\n",
        "\n",
        "unit_form_prompt = FewShotPromptTemplate(\n",
        "    examples=unit_forms_examples,\n",
        "    example_prompt=unit_form_example_prompt,\n",
        "    suffix=\"Question: Generate several forms for the unit of {input}\",\n",
        "    input_variables=[\"input\"]\n",
        ")\n",
        "\n",
        "_unit_form_chain = unit_form_prompt | llm | RunnableLambda(strip_parser)\n",
        "\n",
        "unit_form_chain = RunnableBranch(\n",
        "    (lambda x: x[\"input\"] == \"%\", RunnableLambda(lambda _: \"%\")),\n",
        "    _unit_form_chain,\n",
        ")\n",
        "\n",
        "unit_form_chain.invoke({\"input\": \"%\"})"
      ],
      "outputs": [
        {
          "output_type": "execute_result",
          "execution_count": 33,
          "data": {
            "text/plain": "'%'"
          },
          "metadata": {}
        }
      ],
      "execution_count": 33,
      "metadata": {
        "jupyter": {
          "source_hidden": false,
          "outputs_hidden": false
        },
        "nteract": {
          "transient": {
            "deleting": false
          }
        },
        "gather": {
          "logged": 1702067701890
        }
      }
    },
    {
      "cell_type": "code",
      "source": [
        "# get other forms of a unit\n",
        "get_units_examples = [\n",
        "    {\"question\": \"Give me several units for the property of Frequency\",\n",
        "    \"answer\": \"hertz, kilohertz, megahertz, gigahertz\"},\n",
        "    {\"question\": \"Give me several units for the property of Power\",\n",
        "    \"answer\": \"watt, kilowatt, milliwatt, btu, hp\"},\n",
        "    {\"question\": \"Give me several units for the property of Density\",\n",
        "    \"answer\": \"g/cm³, kg/m³, g/l, lb/gal\"},\n",
        "    {\"question\": \"Give me several units for the property of Flexural Strength\",\n",
        "    \"answer\": \"atm, kPa, MPa, msi\"},\n",
        "    {\"question\": \"Give me several units for the property of Notched Izod Impact\",\n",
        "    \"answer\": \"J/m, J/cm\"},\n",
        "    {\"question\": \"Give me several units for the property of Tensile Elongation at Yield\",\n",
        "    \"answer\": \"%\"},\n",
        "]\n",
        "\n",
        "get_units_example_prompt = PromptTemplate(input_variables=[\"question\", \"answer\"], template=\"Question: {question}\\n{answer}\")\n",
        "\n",
        "get_units_prompt = FewShotPromptTemplate(\n",
        "    examples=get_units_examples,\n",
        "    example_prompt=get_units_example_prompt,\n",
        "    suffix=\"Question: Give me several units for the property of {input}\",\n",
        "    input_variables=[\"input\"]\n",
        ")\n",
        "\n",
        "get_units_chain = get_units_prompt | llm | RunnableLambda(get_units_output_parser)\n",
        "\n",
        "get_units_chain.invoke({\"input\": \"CLTE, Transverse\"})"
      ],
      "outputs": [
        {
          "output_type": "execute_result",
          "execution_count": 34,
          "data": {
            "text/plain": "'µm/m°C, in/in°F, ppm/°C'"
          },
          "metadata": {}
        }
      ],
      "execution_count": 34,
      "metadata": {
        "jupyter": {
          "source_hidden": false,
          "outputs_hidden": false
        },
        "nteract": {
          "transient": {
            "deleting": false
          }
        },
        "gather": {
          "logged": 1702067702384
        }
      }
    },
    {
      "cell_type": "code",
      "source": [
        "ProspectorDB.getUnitOf(\"Water Vapor Transmission\")"
      ],
      "outputs": [
        {
          "output_type": "execute_result",
          "execution_count": 35,
          "data": {
            "text/plain": "'g/m²/24 hr'"
          },
          "metadata": {}
        }
      ],
      "execution_count": 35,
      "metadata": {
        "jupyter": {
          "source_hidden": false,
          "outputs_hidden": false
        },
        "nteract": {
          "transient": {
            "deleting": false
          }
        },
        "gather": {
          "logged": 1702067702506
        }
      }
    },
    {
      "cell_type": "code",
      "source": [
        "get_units_chain.invoke({\"input\": \"DTUL Unannealed\"})"
      ],
      "outputs": [
        {
          "output_type": "execute_result",
          "execution_count": 36,
          "data": {
            "text/plain": "'°C, °F, K'"
          },
          "metadata": {}
        }
      ],
      "execution_count": 36,
      "metadata": {
        "jupyter": {
          "source_hidden": false,
          "outputs_hidden": false
        },
        "nteract": {
          "transient": {
            "deleting": false
          }
        },
        "gather": {
          "logged": 1702067702776
        }
      }
    },
    {
      "cell_type": "code",
      "source": [
        "unit_form_chain.invoke({\"input\": \"°F\"}).split(\", \")"
      ],
      "outputs": [
        {
          "output_type": "execute_result",
          "execution_count": 37,
          "data": {
            "text/plain": "['°F', 'deg F', 'degrees Fahrenheit']"
          },
          "metadata": {}
        }
      ],
      "execution_count": 37,
      "metadata": {
        "jupyter": {
          "source_hidden": false,
          "outputs_hidden": false
        },
        "nteract": {
          "transient": {
            "deleting": false
          }
        },
        "gather": {
          "logged": 1702067703148
        }
      }
    },
    {
      "cell_type": "code",
      "source": [
        "# get parsable properties\n",
        "parsable_properties = all_pro_info_df[all_pro_info_df[\"Is table property\"] == 1][\"Name from prospector database\"].values"
      ],
      "outputs": [],
      "execution_count": 38,
      "metadata": {
        "jupyter": {
          "source_hidden": false,
          "outputs_hidden": false
        },
        "nteract": {
          "transient": {
            "deleting": false
          }
        },
        "gather": {
          "logged": 1702067703248
        }
      }
    },
    {
      "cell_type": "code",
      "source": [
        "# test\n",
        "# parsable_properties = [\"Tensile Elongation at Yield\", \"CLTE, Flow\", \"DTUL Unannealed\"]\n",
        "# parsable_properties = [\"DTUL Unannealed\"]"
      ],
      "outputs": [],
      "execution_count": 39,
      "metadata": {
        "jupyter": {
          "source_hidden": false,
          "outputs_hidden": false
        },
        "nteract": {
          "transient": {
            "deleting": false
          }
        },
        "gather": {
          "logged": 1702067703335
        }
      }
    },
    {
      "cell_type": "code",
      "source": [
        "generated_property_config = {}\n",
        "for property_name in parsable_properties:\n",
        "    property_dict = {}\n",
        "    additional_units = get_units_chain.invoke({\"input\": property_name}).split(\", \")\n",
        "    db_unit = ProspectorDB.getUnitOf(property_name)\n",
        "    property_dict[\"implicit_unit\"] = db_unit if db_unit else additional_units[0] if additional_units else None\n",
        "    property_dict[\"value_types\"] = [\"single_value\", \"range\"]\n",
        "    property_dict[\"unbound_range_support\"] = {\n",
        "        \"and_under_regex\": \"<|less than\",\n",
        "        \"and_over_regex\": \">|more than\",\n",
        "        \"lower_limit\": 0,\n",
        "        \"upper_limit\": \"infinity\"}\n",
        "    units = set()\n",
        "    units.add(property_dict[\"implicit_unit\"])\n",
        "    units.update(additional_units)\n",
        "    units = list(units)\n",
        "    units_list = []\n",
        "    for unit in units:\n",
        "        if unit:\n",
        "            unit_dict = {}\n",
        "            unit_dict[\"norm\"] = unit\n",
        "            unit_forms = set()\n",
        "            unit_forms.add(unit.lower())\n",
        "            other_unit_forms = unit_form_chain.invoke({\"input\": unit}).split(\", \")\n",
        "            unit_forms.update(filter(lambda x: x.lower(), other_unit_forms))\n",
        "            unit_dict[\"forms\"] = list(unit_forms)\n",
        "            unit_dict[\"allow_fractions\"] = True\n",
        "            units_list.append(unit_dict)\n",
        "        property_dict[\"units\"] = units_list\n",
        "    generated_property_config[label_convert(property_name)] = property_dict\n",
        "\n",
        "\n",
        "print(yaml.safe_dump(generated_property_config, encoding=\"utf-8\"))\n"
      ],
      "outputs": [],
      "execution_count": null,
      "metadata": {
        "jupyter": {
          "source_hidden": false,
          "outputs_hidden": false
        },
        "nteract": {
          "transient": {
            "deleting": false
          }
        },
        "gather": {
          "logged": 1702067338740
        }
      }
    },
    {
      "cell_type": "code",
      "source": [
        "generated_property_config"
      ],
      "outputs": [],
      "execution_count": null,
      "metadata": {
        "jupyter": {
          "source_hidden": false,
          "outputs_hidden": true
        },
        "nteract": {
          "transient": {
            "deleting": false
          }
        },
        "gather": {
          "logged": 1702067338747
        }
      }
    },
    {
      "cell_type": "code",
      "source": [
        "# load dc vp config\n",
        "with open(\"dc_vp_config.yaml\", \"r\", encoding=\"utf-8\") as f:\n",
        "    final_config = yaml.safe_load(f)"
      ],
      "outputs": [],
      "execution_count": null,
      "metadata": {
        "jupyter": {
          "source_hidden": false,
          "outputs_hidden": false
        },
        "nteract": {
          "transient": {
            "deleting": false
          }
        },
        "gather": {
          "logged": 1702067338754
        }
      }
    },
    {
      "cell_type": "code",
      "source": [
        "# write the result into file\n",
        "\n",
        "final_config[\"label_profiles\"].update(generated_property_config)\n",
        "with open(\"property_value_parser_config.yml\", \"wt\", encoding=\"utf-8\") as f:\n",
        "    yaml.safe_dump(final_config, f, default_flow_style=False)"
      ],
      "outputs": [],
      "execution_count": null,
      "metadata": {
        "jupyter": {
          "source_hidden": false,
          "outputs_hidden": false
        },
        "nteract": {
          "transient": {
            "deleting": false
          }
        },
        "gather": {
          "logged": 1702067338761
        }
      }
    }
  ],
  "metadata": {
    "kernelspec": {
      "name": "python38-azureml-pt-tf",
      "language": "python",
      "display_name": "Python 3.8 - Pytorch and Tensorflow"
    },
    "language_info": {
      "name": "python",
      "version": "3.8.5",
      "mimetype": "text/x-python",
      "codemirror_mode": {
        "name": "ipython",
        "version": 3
      },
      "pygments_lexer": "ipython3",
      "nbconvert_exporter": "python",
      "file_extension": ".py"
    },
    "microsoft": {
      "ms_spell_check": {
        "ms_spell_check_language": "en"
      },
      "host": {
        "AzureML": {
          "notebookHasBeenCompleted": true
        }
      }
    },
    "kernel_info": {
      "name": "python38-azureml-pt-tf"
    },
    "nteract": {
      "version": "nteract-front-end@1.0.0"
    }
  },
  "nbformat": 4,
  "nbformat_minor": 2
}